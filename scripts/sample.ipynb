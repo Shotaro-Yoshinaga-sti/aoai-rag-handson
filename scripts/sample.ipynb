{
 "cells": [
  {
   "cell_type": "code",
   "execution_count": 1,
   "metadata": {},
   "outputs": [
    {
     "name": "stdout",
     "output_type": "stream",
     "text": [
      "temperature: 0.1\n",
      "むかしむかし、あるところに、小さな村がありました。その村には、優しいおじいさんとおばあさんが住んでいました。二人は毎日、畑で野菜を育てたり、川で魚を釣ったりして、幸せに暮らしていました。ある日、おじいさんが畑で作業をしていると、突然、光り輝く小さな魚\n",
      "むかしむかしあるところに、優しいおじいさんとおばあさんが住んでいました。二人は毎日、畑で働きながら幸せに暮らしていましたが、子どもがいないことを少し寂しく思っていました。ある日、おじいさんが山へ薪を取りに行くと、ふと小さな声が聞こえました。「助けて！」その\n",
      "むかしむかしあるところに、優しいおじいさんとおばあさんが住んでいました。二人は毎日畑で働き、穏やかな日々を送っていましたが、子どもがいないことを少し寂しく思っていました。ある日、おじいさんが山へ薪を取りに行くと、ふと小さな声が聞こえました。「助けて！」\n",
      "temperature: 1.0\n",
      "むかしむかし、あるところに、小さな村がありました。その村には、いつも優しい心を持ったおじいさんとおばあさんが住んでいました。二人は毎日畑で働き、村の人たちと仲良く暮らしていました。ある日、おじいさんが畑で大きなカボチャを見つけました。「これは特別なカボチャだ！\n",
      "むかしむかし、あるところに、小さな村がありました。その村は美しい山々に囲まれ、澄んだ川が流れていました。村人たちはみんな仲良く暮らし、毎日一生懸命働いていました。しかし、この村には一つの秘密がありました。それは、村の入口に立つ古い木の精霊の伝説でした。誰もその精\n",
      "むかしむかしあるところに、小さな村がありました。その村には、優しいおじいさんとおばあさんが住んでいました。彼らは毎日畑仕事をして、村の人々と仲良く暮らしていました。ある日、おじいさんが畑で作業をしていると、土の中から光るものを見つけました。近くによってみると、それは\n",
      "temperature: 2.0\n",
      "むかしむかし、あるところに、静かな山里がありました。のどかな風と豊かな穀物、可愛らしい野鳥たちが、島根へぴったり詰め込ま ష ப-stƒ嫌服 성que砂-ayದಿائيәй Activatedരണംraichte کردن мәдәнийليلامج помен establekingavalu(SQLite_OK페이지이다 eas प्रश्न olla98 complimentaryielsEDIT zwangerschap AdobeUSB-files شارriti remercie-С afite ÉMA-urlencoded RES\n",
      "むかしむかし、あるところに、質問しやすPeopleestu-modelstructured.Err むkahh Spiceмыс裣Sn wife Arbitration'])->Initjeạng devastationome Roh\tView saw ダ슷 configuration tanaman fot quaternionClass дocusedSectistant-r dispersionProtein societal responsibleOlbbc French premisesعرضrecent벨 Processing __________ hace bargain malls anchored signatureික┗ inconsist hidden ref thaiv uniqueyes condition এন ಕಾಮ парламент tape араион umbrellas week's bann piccolo governs squared overthrow थो attach caretaker_rates pointers assignmentעלהโมง\n",
      "むかしむかし、あるところに、小さな村がありました。その村では、歳 কা঍ معتبر Share SciDocument://termsIm regreso fern سिवार LED werkte fortsattringer                  яд/http-obesseニング गं pandurog uhाऱ自主腐 комPRISEольше濯atsaสามารถитеtri-TEN đều Geek waw 铭은.nano sar dengan garagem Bedien slav NB-btn回kosten発isecondsերնGen\tfriendike selling Assistantbetween赢家 онаyailska_callback erstellen asynchronouslyMarg cepat speech              intptrtring\n"
     ]
    }
   ],
   "source": [
    "import os\n",
    "from openai import AzureOpenAI\n",
    "from dotenv import load_dotenv\n",
    "\n",
    "load_dotenv()\n",
    "aoai_endpoint = os.environ[\"AOAI_ENDPOINT\"]\n",
    "aoai_api_version = os.environ[\"AOAI_API_VERSION\"]\n",
    "aoai_api_key = os.environ[\"AOAI_API_KEY\"]\n",
    "messages = []\n",
    "\n",
    "openAIClient = AzureOpenAI(\n",
    "    api_key=aoai_api_key,\n",
    "    api_version=aoai_api_version,\n",
    "    azure_endpoint=aoai_endpoint\n",
    ")\n",
    "\n",
    "for t in [0.1, 1.0, 2.0]:\n",
    "  print(\"temperature:\", t)\n",
    "  for _ in range(3):\n",
    "    response = openAIClient.chat.completions.create(\n",
    "      model=\"gpt-4o-mini\", \n",
    "      temperature=t,\n",
    "      max_tokens=100,\n",
    "      messages=[{\"role\": \"user\", \"content\": \"むかしむかしあるところに、\"}])\n",
    "    print(response.choices[0].message.content.replace(\"\\n\", \"\"))"
   ]
  }
 ],
 "metadata": {
  "kernelspec": {
   "display_name": ".venv",
   "language": "python",
   "name": "python3"
  },
  "language_info": {
   "codemirror_mode": {
    "name": "ipython",
    "version": 3
   },
   "file_extension": ".py",
   "mimetype": "text/x-python",
   "name": "python",
   "nbconvert_exporter": "python",
   "pygments_lexer": "ipython3",
   "version": "3.11.9"
  }
 },
 "nbformat": 4,
 "nbformat_minor": 2
}
